{
 "cells": [
  {
   "cell_type": "code",
   "execution_count": 3,
   "metadata": {},
   "outputs": [],
   "source": [
    "import requests\n",
    "from bs4 import BeautifulSoup"
   ]
  },
  {
   "cell_type": "code",
   "execution_count": 4,
   "metadata": {},
   "outputs": [
    {
     "name": "stdout",
     "output_type": "stream",
     "text": [
      "Title: Rolls-Royce and Turkish Airlines celebrate ongoing strategic partnership\n",
      "\n",
      "Content:\n",
      "Subscribe\n",
      "\n",
      "Rolls-Royce and Turkish Airlines signed a joint statement at a ceremony held at the Turkish Airlines headquarters in Istanbul this week.\n",
      "\n",
      "Image: Turkish Airlines\n",
      "\n",
      "The joint statement follows Turkish Airlines order for 80 Airbus A350 aircraft. That deal makes Turkish Airlines the world’s largest operator of the Trent XWB, which powers the Airbus A350, and included an order for 120 Trent XWB-84 engines and 40 Trent XWB-97 engines, excluding options and spares.\n",
      "\n",
      "As part of Rolls-Royce’s long-term strategy and commitment to Türkiye, the company is exploring the implementation of a number of industrial initiatives. These include the potential development of a competitive Maintenance, Repair and Overhaul (MRO) capability and further supply chain sourcing. Rolls-Royce estimates that these projects could have a significant positive impact on the Turkish economy over the coming years.\n",
      "\n",
      "Tufan Erginbilgic, CEO, Rolls-Royce, said: Türkiye is a strategically important market for Rolls-Royce across our business. We are very pleased with the confidence that Turkish Airlines has placed in our Trent XWB engines. We now look forward to working with Turkish Airlines and our partners to use our extensive aerospace engineering experience to benefit the Turkish economy, grow the country’s skills base and expand its role in the energy transition. I am personally very energised by the strengthening relationship between our great company, Turkish Airlines and the Republic of Türkiye.”\n",
      "\n",
      "Turkish Airlines Chairman of the Board and the Executive Committee, Prof. Ahmet Bolat added: Over the past 15 years, Rolls-Royce has been a significant partner for Turkish Airlines. With this latest acquisition, we are poised to become the largest operator of XWB engines. This acquisition is a key milestone in our partnership, offering a mutually beneficial strategy for Rolls-Royce and Türkiye. As part of this strategy, we have agreed to establish a 'Steering Committee.' Through this committee, designated projects will be executed based on their performance, competitiveness, and quality criteria.\n",
      "\n",
      "“The remarkable growth of the Turkish aviation industry in the last two decades positions this committee to elevate the ecosystem to new heights and provide greater value-added contributions to not only Türkiye but also the global aviation industry. Through this initiative, we aim to create a sustainable and mutually beneficial environment for both the Turkish aviation industry and Rolls-Royce.\"\n",
      "\n",
      "Subscribe to the free Times Aerospace newsletter\n",
      "\t\t\t\t\tand receive the latest content every week. We'll never share your email address.\n",
      "\n",
      "Honeywell has named Aero-Dienst as a certified maintenance provider for the HTF7000 turbofan engine nacelle system.\n",
      "\n",
      "Aviation, defence and space news from the Middle East, Africa and South Asia\n",
      "\n",
      "Copyright © 2024. All rights reserved. Informa Markets, a trading division of Informa PLC.Privacy policy.\n",
      "\n"
     ]
    }
   ],
   "source": [
    "def scrape_article(url):\n",
    "    try:\n",
    "        # Send a GET request to the provided URL\n",
    "        response = requests.get(url)\n",
    "        response.raise_for_status()  # Raise an exception for HTTP errors\n",
    "\n",
    "        # Parse the HTML content using BeautifulSoup\n",
    "        soup = BeautifulSoup(response.text, 'html.parser')\n",
    "\n",
    "        # Extract the title\n",
    "        title = soup.find('h1').get_text(strip=True) if soup.find('h1') else 'No title found'\n",
    "\n",
    "        # Extract paragraphs\n",
    "        paragraphs = [p.get_text(strip=True) for p in soup.find_all('p')]\n",
    "\n",
    "        # Display the title and paragraphs\n",
    "        print(f\"Title: {title}\\n\")\n",
    "        print(\"Content:\")\n",
    "        for paragraph in paragraphs:\n",
    "            print(paragraph)\n",
    "            print()\n",
    "\n",
    "    except requests.exceptions.RequestException as e:\n",
    "        print(f\"Error fetching the URL: {e}\")\n",
    "\n",
    "url = 'https://www.timesaerospace.aero/news/maintenance/rolls-royce-and-turkish-airlines-celebrate-ongoing-strategic-partnership'  \n",
    "scrape_article(url)\n"
   ]
  },
  {
   "cell_type": "markdown",
   "metadata": {},
   "source": [
    "### Fed into gpt4 with prompt:\n",
    "\"I will give you the content of a website that talks about news about a company, use the content and give a summary, do not include anything that is not in the content.\"\n",
    "\n",
    "### The content of the website is: \n",
    "Title: Rolls-Royce and Turkish Airlines celebrate ongoing strategic partnership\n",
    "\n",
    "Content:\n",
    "Subscribe\n",
    "\n",
    "Rolls-Royce and Turkish Airlines signed a joint statement at a ceremony held at the Turkish Airlines headquarters in Istanbul this week.\n",
    "\n",
    "Image: Turkish Airlines\n",
    "\n",
    "The joint statement follows Turkish Airlines order for 80 Airbus A350 aircraft. That deal makes Turkish Airlines the world’s largest operator of the Trent XWB, which powers the Airbus A350, and included an order for 120 Trent XWB-84 engines and 40 Trent XWB-97 engines, excluding options and spares.\n",
    "\n",
    "As part of Rolls-Royce’s long-term strategy and commitment to Türkiye, the company is exploring the implementation of a number of industrial initiatives. These include the potential development of a competitive Maintenance, Repair and Overhaul (MRO) capability and further supply chain sourcing. Rolls-Royce estimates that these projects could have a significant positive impact on the Turkish economy over the coming years.\n",
    "\n",
    "Tufan Erginbilgic, CEO, Rolls-Royce, said: Türkiye is a strategically important market for Rolls-Royce across our business. We are very pleased with the confidence that Turkish Airlines has placed in our Trent XWB engines. We now look forward to working with Turkish Airlines and our partners to use our extensive aerospace engineering experience to benefit the Turkish economy, grow the country’s skills base and expand its role in the energy transition. I am personally very energised by the strengthening relationship between our great company, Turkish Airlines and the Republic of Türkiye.”\n",
    "\n",
    "Turkish Airlines Chairman of the Board and the Executive Committee, Prof. Ahmet Bolat added: Over the past 15 years, Rolls-Royce has been a significant partner for Turkish Airlines. With this latest acquisition, we are poised to become the largest operator of XWB engines. This acquisition is a key milestone in our partnership, offering a mutually beneficial strategy for Rolls-Royce and Türkiye. As part of this strategy, we have agreed to establish a 'Steering Committee.' Through this committee, designated projects will be executed based on their performance, competitiveness, and quality criteria.\n",
    "\n",
    "“The remarkable growth of the Turkish aviation industry in the last two decades positions this committee to elevate the ecosystem to new heights and provide greater value-added contributions to not only Türkiye but also the global aviation industry. Through this initiative, we aim to create a sustainable and mutually beneficial environment for both the Turkish aviation industry and Rolls-Royce.\"\n",
    "\n",
    "Subscribe to the free Times Aerospace newsletter\n",
    "\t\t\t\t\tand receive the latest content every week. We'll never share your email address.\n",
    "\n",
    "Honeywell has named Aero-Dienst as a certified maintenance provider for the HTF7000 turbofan engine nacelle system.\n",
    "\n",
    "Aviation, defence and space news from the Middle East, Africa and South Asia\n",
    "\n",
    "Copyright © 2024. All rights reserved. Informa Markets, a trading division of Informa PLC.Privacy policy.\n",
    "\n",
    "### Summary:\n",
    "Rolls-Royce and Turkish Airlines recently reinforced their strategic partnership during a signing ceremony at Turkish Airlines’ headquarters in Istanbul. This event follows Turkish Airlines' order of 80 Airbus A350 aircraft, making it the largest operator of the Trent XWB engines used in these planes. The order includes 120 Trent XWB-84 engines and 40 Trent XWB-97 engines, not counting additional options and spares.\n",
    "\n",
    "As part of this collaboration, Rolls-Royce plans to boost its long-term commitments in Turkey by potentially developing a competitive Maintenance, Repair, and Overhaul (MRO) facility and expanding its supply chain sourcing in the region. These initiatives are expected to significantly benefit the Turkish economy.\n",
    "\n",
    "The partnership includes the formation of a Steering Committee to oversee various projects aimed at enhancing the performance, competitiveness, and quality of the initiatives. Both parties anticipate that this will not only support the growth of Turkey’s aviation sector but also contribute positively to the global aviation landscape.\n",
    "\n",
    "This collaboration marks a continuation of a 15-year partnership between Rolls-Royce and Turkish Airlines, highlighting their mutual strategy to enhance Turkey’s position in the aerospace industry and its contribution to the energy transition.\n"
   ]
  }
 ],
 "metadata": {
  "kernelspec": {
   "display_name": "Python 3",
   "language": "python",
   "name": "python3"
  },
  "language_info": {
   "codemirror_mode": {
    "name": "ipython",
    "version": 3
   },
   "file_extension": ".py",
   "mimetype": "text/x-python",
   "name": "python",
   "nbconvert_exporter": "python",
   "pygments_lexer": "ipython3",
   "version": "3.10.11"
  }
 },
 "nbformat": 4,
 "nbformat_minor": 2
}
