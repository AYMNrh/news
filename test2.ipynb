{
 "cells": [
  {
   "cell_type": "code",
   "execution_count": 1,
   "metadata": {},
   "outputs": [],
   "source": [
    "import os\n",
    "import requests\n",
    "from bs4 import BeautifulSoup\n",
    "import re"
   ]
  },
  {
   "cell_type": "code",
   "execution_count": 3,
   "metadata": {},
   "outputs": [
    {
     "name": "stdout",
     "output_type": "stream",
     "text": [
      "Article 'Royal Mail hires new boss who triggered strike threat at Heathrow' saved as 'summary/Royal Mail hires new boss who triggered strike threat at Heathrow.txt'\n",
      "Article 'Rolls-Royce and Turkish Airlines celebrate ongoing strategic partnership' saved as 'summary/Rolls-Royce and Turkish Airlines celebrate ongoing strategic partnership.txt'\n",
      "Article 'Royal Mail names senior Heathrow executive as next boss' saved as 'summary/Royal Mail names senior Heathrow executive as next boss.txt'\n"
     ]
    }
   ],
   "source": [
    "def scrape_article(url):\n",
    "    try:\n",
    "        # Send a GET request to the provided URL\n",
    "        response = requests.get(url)\n",
    "        response.raise_for_status()  # Raise an exception for HTTP errors\n",
    "\n",
    "        # Parse the HTML content using BeautifulSoup\n",
    "        soup = BeautifulSoup(response.text, 'html.parser')\n",
    "\n",
    "        # Extract the title\n",
    "        title = soup.find('h1').get_text(strip=True) if soup.find('h1') else 'No title found'\n",
    "        title = re.sub(r'[\\\\/*?:\"<>|]', \"\", title)  # Clean the title for use as a filename\n",
    "\n",
    "        # Extract paragraphs\n",
    "        paragraphs = [p.get_text(strip=True) for p in soup.find_all('p')]\n",
    "\n",
    "        # Create summary (first few paragraphs)\n",
    "        summary = \"\\n\\n\".join(paragraphs[:3])  # Adjust the number of paragraphs for summary as needed\n",
    "\n",
    "        return title, summary, url\n",
    "\n",
    "    except requests.exceptions.RequestException as e:\n",
    "        print(f\"Error fetching the URL: {e}\")\n",
    "        return None, None, None\n",
    "\n",
    "def read_links(file_path):\n",
    "    try:\n",
    "        with open(file_path, 'r') as file:\n",
    "            links = file.readlines()\n",
    "        links = [link.strip() for link in links]  # Remove any surrounding whitespace/newline characters\n",
    "        return links\n",
    "    except Exception as e:\n",
    "        print(f\"Error reading the file: {e}\")\n",
    "        return []\n",
    "\n",
    "def write_article_to_file(title, summary, source):\n",
    "    if title and summary:\n",
    "        filename = f\"summary/{title}.txt\"\n",
    "        with open(filename, 'w', encoding='utf-8') as file:\n",
    "            file.write(summary)\n",
    "            file.write(\"\\n\\nSource: \" + source)\n",
    "        print(f\"Article '{title}' saved as '{filename}'\")\n",
    "    else:\n",
    "        print(f\"Skipping article with insufficient data.\")\n",
    "\n",
    "def main():\n",
    "    input_file = 'links.txt'  # Replace with your input file path\n",
    "    links = read_links(input_file)\n",
    "\n",
    "    for link in links:\n",
    "        title, summary, source = scrape_article(link)\n",
    "        write_article_to_file(title, summary, source)\n",
    "\n",
    "if __name__ == \"__main__\":\n",
    "    main()\n"
   ]
  }
 ],
 "metadata": {
  "kernelspec": {
   "display_name": "Python 3",
   "language": "python",
   "name": "python3"
  },
  "language_info": {
   "codemirror_mode": {
    "name": "ipython",
    "version": 3
   },
   "file_extension": ".py",
   "mimetype": "text/x-python",
   "name": "python",
   "nbconvert_exporter": "python",
   "pygments_lexer": "ipython3",
   "version": "3.10.11"
  }
 },
 "nbformat": 4,
 "nbformat_minor": 2
}
